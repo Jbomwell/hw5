{
 "cells": [
  {
   "cell_type": "code",
   "execution_count": 52,
   "id": "a207fc98",
   "metadata": {},
   "outputs": [],
   "source": [
    "import sys\n",
    "import json\n",
    "import brickschema"
   ]
  },
  {
   "cell_type": "code",
   "execution_count": 53,
   "id": "98fb378a",
   "metadata": {},
   "outputs": [],
   "source": [
    "with open('test.json') as fh:\n",
    "            data_params = json.load(fh)"
   ]
  },
  {
   "cell_type": "code",
   "execution_count": 54,
   "id": "3d7f9783",
   "metadata": {},
   "outputs": [
    {
     "data": {
      "text/plain": [
       "['Rm_1100A', 'Rm_1100D']"
      ]
     },
     "execution_count": 54,
     "metadata": {},
     "output_type": "execute_result"
    }
   ],
   "source": [
    "data_params['rooms']"
   ]
  },
  {
   "cell_type": "code",
   "execution_count": 55,
   "id": "6d945431",
   "metadata": {},
   "outputs": [
    {
     "data": {
      "text/plain": [
       "<Graph identifier=Nd87931ffa456402198940582285109e6 (<class 'brickschema.graph.Graph'>)>"
      ]
     },
     "execution_count": 55,
     "metadata": {},
     "output_type": "execute_result"
    }
   ],
   "source": [
    "g = brickschema.Graph(load_brick=True)\n",
    "g.load_file(\"test\\\\testdata\\\\bricktest.ttl\")"
   ]
  },
  {
   "cell_type": "code",
   "execution_count": 56,
   "id": "e3691260",
   "metadata": {},
   "outputs": [],
   "source": [
    "res = g.query(\"\"\"SELECT ?room WHERE {\n",
    "    ?room rdf:type brick:Room .\n",
    "}\"\"\")"
   ]
  },
  {
   "cell_type": "code",
   "execution_count": 57,
   "id": "fe9d66a5",
   "metadata": {},
   "outputs": [
    {
     "data": {
      "text/plain": [
       "['Rm_1100A', 'Rm_1100D']"
      ]
     },
     "execution_count": 57,
     "metadata": {},
     "output_type": "execute_result"
    }
   ],
   "source": [
    "lst = []\n",
    "for r in res:\n",
    "    lst.append(r[0][-8:])\n",
    "lst = lst[:2]\n",
    "lst"
   ]
  },
  {
   "cell_type": "code",
   "execution_count": 58,
   "id": "f320ef34",
   "metadata": {},
   "outputs": [
    {
     "data": {
      "text/plain": [
       "True"
      ]
     },
     "execution_count": 58,
     "metadata": {},
     "output_type": "execute_result"
    }
   ],
   "source": [
    "lst == data_params['rooms']"
   ]
  },
  {
   "cell_type": "code",
   "execution_count": null,
   "id": "b8186961",
   "metadata": {},
   "outputs": [],
   "source": []
  },
  {
   "cell_type": "code",
   "execution_count": null,
   "id": "15eba263",
   "metadata": {},
   "outputs": [],
   "source": []
  }
 ],
 "metadata": {
  "kernelspec": {
   "display_name": "Python 3 (ipykernel)",
   "language": "python",
   "name": "python3"
  },
  "language_info": {
   "codemirror_mode": {
    "name": "ipython",
    "version": 3
   },
   "file_extension": ".py",
   "mimetype": "text/x-python",
   "name": "python",
   "nbconvert_exporter": "python",
   "pygments_lexer": "ipython3",
   "version": "3.8.11"
  }
 },
 "nbformat": 4,
 "nbformat_minor": 5
}
