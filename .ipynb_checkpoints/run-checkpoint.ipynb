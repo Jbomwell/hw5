{
 "cells": [
  {
   "cell_type": "code",
   "execution_count": 1,
   "id": "a207fc98",
   "metadata": {},
   "outputs": [],
   "source": [
    "import brickschema\n",
    "g = brickschema.Graph(load_brick=True)\n",
    "g.load_file(\"ebu3b_brick.ttl\")"
   ]
  },
  {
   "cell_type": "code",
   "execution_count": 3,
   "id": "e3691260",
   "metadata": {},
   "outputs": [],
   "source": []
  },
  {
   "cell_type": "code",
   "execution_count": 6,
   "id": "fe9d66a5",
   "metadata": {},
   "outputs": [],
   "source": []
  },
  {
   "cell_type": "code",
   "execution_count": 15,
   "id": "b8186961",
   "metadata": {},
   "outputs": [],
   "source": []
  },
  {
   "cell_type": "code",
   "execution_count": 19,
   "id": "f320ef34",
   "metadata": {},
   "outputs": [
    {
     "data": {
      "text/plain": [
       "[(rdflib.term.URIRef('http://ucsd.edu/building/ontology/ebu3b#EBU3B_Rm_1100A')),\n",
       " (rdflib.term.URIRef('http://ucsd.edu/building/ontology/ebu3b#EBU3B_Rm_1100D')),\n",
       " (rdflib.term.URIRef('http://ucsd.edu/building/ontology/ebu3b#EBU3B_Rm_1102')),\n",
       " (rdflib.term.URIRef('http://ucsd.edu/building/ontology/ebu3b#EBU3B_Rm_1104')),\n",
       " (rdflib.term.URIRef('http://ucsd.edu/building/ontology/ebu3b#EBU3B_Rm_1106'))]"
      ]
     },
     "execution_count": 19,
     "metadata": {},
     "output_type": "execute_result"
    }
   ],
   "source": []
  },
  {
   "cell_type": "code",
   "execution_count": null,
   "id": "15eba263",
   "metadata": {},
   "outputs": [],
   "source": []
  }
 ],
 "metadata": {
  "kernelspec": {
   "display_name": "Python 3 (ipykernel)",
   "language": "python",
   "name": "python3"
  },
  "language_info": {
   "codemirror_mode": {
    "name": "ipython",
    "version": 3
   },
   "file_extension": ".py",
   "mimetype": "text/x-python",
   "name": "python",
   "nbconvert_exporter": "python",
   "pygments_lexer": "ipython3",
   "version": "3.8.11"
  }
 },
 "nbformat": 4,
 "nbformat_minor": 5
}
